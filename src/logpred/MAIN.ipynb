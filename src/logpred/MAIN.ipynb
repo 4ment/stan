{
 "cells": [
  {
   "cell_type": "markdown",
   "metadata": {},
   "source": [
    "# MAIN for gmm_diag.stan"
   ]
  },
  {
   "cell_type": "code",
   "execution_count": null,
   "metadata": {
    "collapsed": false
   },
   "outputs": [],
   "source": [
    "import numpy as np\n",
    "import pystan\n",
    "import matplotlib.pyplot as plt\n",
    "%matplotlib inline\n",
    "from matplotlib import style\n",
    "style.use('ggplot')\n",
    "import itertools\n",
    "import datetime\n",
    "import os, sys, subprocess, os.path, shutil\n",
    "FNULL = open(os.devnull, 'w')\n",
    "def execute(command):    \n",
    "    popen = subprocess.Popen(command, shell=True, stdout=subprocess.PIPE)\n",
    "    lines_iterator = iter(popen.stdout.readline, b\"\")\n",
    "    for line in lines_iterator:\n",
    "        print(line), # yield line"
   ]
  },
  {
   "cell_type": "code",
   "execution_count": null,
   "metadata": {
    "collapsed": false
   },
   "outputs": [],
   "source": [
    "# Run NUTS and ADVI using these commands\n",
    "\n",
    "nuts_execution = \"./gmm_diag sample save_warmup=1 data file=training.data.R \"\n",
    "nuts_execution += \"output file=output_nuts.csv random seed=1\"\n",
    "\n",
    "advi_execution = \"./gmm_diag variational eta_adagrad=0.5 eval_elbo=10 tol_rel_obj=0.015 \"\n",
    "advi_execution += \"data file=training.data.R \"\n",
    "advi_execution += \"output file=output_mf.csv diagnostic_file=elbo_mf.csv random seed=1\"\n",
    "\n",
    "subprocess.call('rm -rf *.csv', shell=True, stdout=FNULL)\n",
    "execute(nuts_execution)\n",
    "execute(advi_execution)"
   ]
  },
  {
   "cell_type": "code",
   "execution_count": null,
   "metadata": {
    "collapsed": true
   },
   "outputs": [],
   "source": [
    "# Define log_pred Stan program\n",
    "execution_string = \"./gmm_diag_logpred sample algorithm=fixed_param num_samples=1 \"\n",
    "execution_string += \"data file=logpred.data.R output file=output_logpred.csv\"  "
   ]
  },
  {
   "cell_type": "code",
   "execution_count": null,
   "metadata": {
    "collapsed": false
   },
   "outputs": [],
   "source": [
    "# Make copies of timing CSV files because the log_pred calculations will overwrite them.\n",
    "shutil.copy('warmup_timing.csv', 'warmup_timing_ORIG.csv')\n",
    "shutil.copy('sample_timing.csv', 'sample_timing_ORIG.csv')"
   ]
  },
  {
   "cell_type": "code",
   "execution_count": null,
   "metadata": {
    "collapsed": false
   },
   "outputs": [],
   "source": [
    "# Form the basic structure of the held-out logpredictive \"dataset\"\n",
    "testing = pystan.misc.read_rdump('training.data.R')\n",
    "\n",
    "datadict = {}\n",
    "\n",
    "block_size = 25 # this has to match `num_intermediate_samples` in `advi.hpp`\n",
    "datadict['S']         = block_size\n",
    "datadict['K']         = testing['K']\n",
    "datadict['D']         = testing['D']\n",
    "datadict['N']         = testing['N']\n",
    "datadict['y_heldout'] = testing['y'] "
   ]
  },
  {
   "cell_type": "code",
   "execution_count": null,
   "metadata": {
    "collapsed": false
   },
   "outputs": [],
   "source": [
    "## NUTS \n",
    "\n",
    "# Get timing results\n",
    "warmup_timing = np.genfromtxt('warmup_timing_ORIG.csv', delimiter=',')[:,1]\n",
    "sample_timing = np.genfromtxt('sample_timing_ORIG.csv', delimiter=',')[:,1]\n",
    "sample_timing = sample_timing + warmup_timing[-1] # stan resets the timer\n",
    "full_timing_nuts = np.concatenate([warmup_timing, sample_timing])\n",
    "\n",
    "# The first 6 columns are useless for us\n",
    "samples = np.genfromtxt('output_nuts.csv', delimiter=',')[1:,6:]\n",
    "N_test = samples.shape[0]\n",
    "K = testing['K']\n",
    "D = testing['D']\n",
    "theta   = samples[:,0:K]\n",
    "mu      = np.reshape(samples[:, K:K+K*D], (N_test,K,D), order='F')\n",
    "sigma   = np.reshape(samples[:, K+K*D:],  (N_test,K,D), order='F')\n",
    "\n",
    "ave_log_pred_nuts = np.zeros(samples.shape[0]/block_size);\n",
    "timing_nuts = np.zeros(samples.shape[0]/block_size);\n",
    "\n",
    "for i in range(samples.shape[0]/block_size):\n",
    "    print \"Processing iterations\",\n",
    "    print i*block_size,\n",
    "    print \"to\",\n",
    "    print (i+1)*block_size,\n",
    "    \n",
    "    datadict['theta'] = theta[i*block_size:(i+1)*block_size, :]\n",
    "    datadict['mu']    = np.swapaxes(mu[i*block_size:(i+1)*block_size, :, :], 0, 1)\n",
    "    datadict['sigma'] = np.swapaxes(sigma[i*block_size:(i+1)*block_size, :, :], 0, 1)\n",
    "    # hack to make sure simplexes numerically sums up to 1\n",
    "    datadict['theta'][:,0] += 1.0 - np.sum(datadict['theta'],axis=1)\n",
    "    \n",
    "    pystan.misc.stan_rdump(datadict, 'logpred.data.R')\n",
    "    \n",
    "    subprocess.call(execution_string, shell=True, stdout=FNULL)\n",
    "    \n",
    "    ave_log_pred_nuts[i] = np.genfromtxt('output_logpred.csv', delimiter=',')[1,-1]\n",
    "    timing_nuts[i]       = full_timing_nuts[(i+1)*block_size - 1]\n",
    "    \n",
    "    print \"\\tave_log_pred: \",\n",
    "    print \"{:>8.1f}\".format(ave_log_pred_nuts[i]),\n",
    "    print \"at\",\n",
    "    print timing_nuts[i] "
   ]
  },
  {
   "cell_type": "code",
   "execution_count": null,
   "metadata": {
    "collapsed": false
   },
   "outputs": [],
   "source": [
    "## ADVI\n",
    "elbo = np.genfromtxt('elbo_mf.csv', delimiter=',')\n",
    "advi_iterations = np.array(elbo[1:,0], dtype='int')\n",
    "timing_advi = elbo[1:,1]\n",
    "\n",
    "ave_log_pred_advi = np.zeros_like(timing_advi);\n",
    "\n",
    "counter = 0;\n",
    "for i in advi_iterations:\n",
    "    print \"Processing iteration \" + str(i),\n",
    "    \n",
    "    samples = np.genfromtxt('intermediate_variational_samples_'+str(i)+'.csv', delimiter=',')[:,1:]\n",
    "\n",
    "    N_test = samples.shape[0]\n",
    "    K = testing['K']\n",
    "    D = testing['D']\n",
    "\n",
    "    theta   = samples[:,0:K]\n",
    "    mu      = np.reshape(samples[:, K:K+K*D], (N_test,K,D), order='F')\n",
    "    sigma   = np.reshape(samples[:, K+K*D:],  (N_test,K,D), order='F')\n",
    "    \n",
    "    datadict['theta'] = theta\n",
    "    datadict['mu']    = np.swapaxes(mu, 0, 1)\n",
    "    datadict['sigma'] = np.swapaxes(sigma, 0, 1)\n",
    "    # hack to make sure simplexes numerically sums up to 1\n",
    "    datadict['theta'][:,0] += 1.0 - np.sum(datadict['theta'],axis=1)\n",
    "    \n",
    "    pystan.misc.stan_rdump(datadict, 'logpred.data.R')\n",
    "\n",
    "    subprocess.call(execution_string, shell=True, stdout=FNULL)\n",
    "    \n",
    "    ave_log_pred_advi[counter] = np.genfromtxt('output_logpred.csv', delimiter=',')[1,-1]\n",
    "    \n",
    "    print \"\\tave_log_pred: \",\n",
    "    print \"{:>8.1f}\".format(ave_log_pred_advi[counter]),\n",
    "    print \"at\",\n",
    "    print timing_advi[counter] \n",
    "    \n",
    "    counter = counter + 1"
   ]
  },
  {
   "cell_type": "code",
   "execution_count": null,
   "metadata": {
    "collapsed": false
   },
   "outputs": [],
   "source": [
    "fi = plt.figure(figsize=(15,5))\n",
    "ax = plt.subplot()\n",
    "colors = itertools.cycle(plt.rcParams['axes.color_cycle'])\n",
    "\n",
    "this_color = next(colors)\n",
    "ax.plot(timing_nuts, ave_log_pred_nuts, lw=3, c=this_color, label='NUTS')\n",
    "\n",
    "this_color = next(colors)\n",
    "ax.plot(timing_advi, ave_log_pred_advi, lw=3, c=this_color, label='ADVI')\n",
    "\n",
    "this_color = next(colors)\n",
    "# ax.plot(timing_adsvi, ave_log_pred_adsvi, lw=3, c=this_color, label='STOCH ADVI')\n",
    "\n",
    "ax.set_xlim([0,4])\n",
    "# ax.set_xscale('log')\n",
    "\n",
    "ax.set_xlabel('Seconds')\n",
    "ax.set_ylabel('Average Log Predictive')\n",
    "ax.legend(loc=4)\n",
    "z=ax.plot()\n",
    "\n",
    "plt.savefig('gmm_plot.pdf',format='pdf')"
   ]
  },
  {
   "cell_type": "code",
   "execution_count": null,
   "metadata": {
    "collapsed": false
   },
   "outputs": [],
   "source": [
    "# Make a folder to stores results\n",
    "results_directory = datetime.datetime.now().strftime(\"%Y-%m-%d_%a_%H-%M-%S\")\n",
    "if not os.path.exists(results_directory):\n",
    "    os.makedirs(results_directory)\n",
    "\n",
    "# Move all results into folder    \n",
    "source = os.listdir(\".\")\n",
    "for files in source:\n",
    "    if files.endswith(\".csv\") or files.endswith(\".pdf\"):\n",
    "        shutil.move(files,results_directory)\n",
    "        \n",
    "# Copy programs, data, and this notebook\n",
    "for files in source:\n",
    "    if files.endswith(\".stan\") or files.endswith(\".R\") or files.endswith(\".ipynb\"):\n",
    "        shutil.copy(files,results_directory)\n",
    "\n",
    "# Remove logpred.data.R to keep things clean\n",
    "os.remove(\"logpred.data.R\")"
   ]
  },
  {
   "cell_type": "code",
   "execution_count": null,
   "metadata": {
    "collapsed": true
   },
   "outputs": [],
   "source": []
  }
 ],
 "metadata": {
  "kernelspec": {
   "display_name": "Python 2",
   "language": "python",
   "name": "python2"
  },
  "language_info": {
   "codemirror_mode": {
    "name": "ipython",
    "version": 2
   },
   "file_extension": ".py",
   "mimetype": "text/x-python",
   "name": "python",
   "nbconvert_exporter": "python",
   "pygments_lexer": "ipython2",
   "version": "2.7.10"
  }
 },
 "nbformat": 4,
 "nbformat_minor": 0
}
