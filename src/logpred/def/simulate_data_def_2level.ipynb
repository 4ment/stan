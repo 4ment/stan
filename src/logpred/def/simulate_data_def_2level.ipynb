{
 "cells": [
  {
   "cell_type": "code",
   "execution_count": 214,
   "metadata": {
    "collapsed": true
   },
   "outputs": [],
   "source": [
    "import numpy as np\n",
    "from numpy.random import gamma, poisson\n",
    "import pystan\n",
    "import matplotlib.pyplot as plt\n",
    "%matplotlib inline\n",
    "from matplotlib import style\n",
    "style.use('ggplot')\n",
    "import itertools"
   ]
  },
  {
   "cell_type": "code",
   "execution_count": 224,
   "metadata": {
    "collapsed": false
   },
   "outputs": [],
   "source": [
    "N = 100\n",
    "I = 10\n",
    "x = np.zeros((N,I))\n",
    "\n",
    "K_2 = 2\n",
    "K_1 = 4\n",
    "\n",
    "alpha_w0 = alpha_w1 = 0.3\n",
    "beta_w0  = beta_w1  = 0.5\n",
    "alpha_z2 = alpha_z1 = 0.3\n",
    "beta_z2  = 0.5\n",
    "\n",
    "W_1 = np.zeros((K_2, K_1))\n",
    "W_0 = np.zeros((K_1, I))\n",
    "\n",
    "z_2 = np.zeros((N, K_2))\n",
    "z_1 = np.zeros((N, K_1))"
   ]
  },
  {
   "cell_type": "code",
   "execution_count": 225,
   "metadata": {
    "collapsed": false
   },
   "outputs": [
    {
     "name": "stdout",
     "output_type": "stream",
     "text": [
      "27\n"
     ]
    },
    {
     "data": {
      "image/png": "[encoded data removed]",
      "text/plain": [
       "<matplotlib.figure.Figure at 0x1160c0450>"
      ]
     },
     "metadata": {},
     "output_type": "display_data"
    }
   ],
   "source": [
    "W_1 = gamma(shape=alpha_w1, scale=1/beta_w1, size=(K_2, K_1))\n",
    "W_0 = gamma(shape=alpha_w0, scale=1/beta_w0, size=(K_1, I))\n",
    "\n",
    "z_2 = gamma(shape=alpha_z2, scale=1/beta_z2, size=(N,K_2))\n",
    "z_1 = gamma(shape=alpha_z1, scale=1/(alpha_z1/np.dot(z_2, W_1)), size=(N,K_1))\n",
    "\n",
    "x   = poisson(lam=np.dot(z_1, W_0), size=(N,I))\n",
    "\n",
    "fi = plt.figure(figsize=(3,10))\n",
    "ax = plt.subplot(1,2,1)\n",
    "ax.axis('off')\n",
    "ax.imshow(np.dot(z_1, W_0), interpolation='nearest', cmap=plt.cm.gray)\n",
    "ax = plt.subplot(1,2,2)\n",
    "ax.axis('off')\n",
    "ax.imshow(x, interpolation='nearest', cmap=plt.cm.gray)\n",
    "print np.max(x)\n"
   ]
  },
  {
   "cell_type": "code",
   "execution_count": 226,
   "metadata": {
    "collapsed": false
   },
   "outputs": [],
   "source": [
    "data = {\n",
    "    'N': N, \n",
    "    'I': I, \n",
    "    'x': x,\n",
    "    'K_2': K_2,\n",
    "    'K_1': K_1,\n",
    "    'alpha_w1': alpha_w1,\n",
    "    'alpha_w0': alpha_w0,\n",
    "    'beta_w1': beta_w1,\n",
    "    'beta_w0': beta_w0,\n",
    "    'alpha_z2': alpha_z2,\n",
    "    'beta_z2': beta_z2,\n",
    "    'alpha_z1': alpha_z1,\n",
    "    }\n",
    "pystan.misc.stan_rdump(data, \"sparse_gamma_def.data.R\")"
   ]
  },
  {
   "cell_type": "code",
   "execution_count": null,
   "metadata": {
    "collapsed": true
   },
   "outputs": [],
   "source": []
  },
  {
   "cell_type": "code",
   "execution_count": 227,
   "metadata": {
    "collapsed": false
   },
   "outputs": [
    {
     "name": "stdout",
     "output_type": "stream",
     "text": [
      "(648,)\n"
     ]
    }
   ],
   "source": [
    "results = np.genfromtxt('output.csv', delimiter=',')[1,1:]\n",
    "print results.shape"
   ]
  },
  {
   "cell_type": "code",
   "execution_count": 228,
   "metadata": {
    "collapsed": true
   },
   "outputs": [],
   "source": [
    "# z_1_ = np.reshape(results[0:N*K_1], (N,K_1), order='F')\n",
    "# z_2_ = np.reshape(results[N*K_1 : N*K_1+N*K_2], (N,K_2), order='F')\n",
    "# W_0_ = np.reshape(results[N*K_1+N*K_2+N*K_3 : N*K_1+N*K_2+N*K_3+K_1*I], (K_1,I), order='F')\n",
    "\n",
    "z_2_ = np.reshape(results[0:N*K_2], (N,K_2), order='F')\n",
    "z_1_ = np.reshape(results[N*K_2 : N*K_2+N*K_1], (N,K_1), order='F')\n",
    "W_1_ = np.reshape(results[N*K_2+N*K_1 : N*K_2+N*K_1+K_2*K_1], (K_2,K_1), order='F')\n",
    "W_0_ = np.reshape(results[N*K_2+N*K_1+K_2*K_1 : N*K_2+N*K_1+K_2*K_1+K_1*I], (K_1,I), order='F')\n"
   ]
  },
  {
   "cell_type": "code",
   "execution_count": 229,
   "metadata": {
    "collapsed": false,
    "scrolled": false
   },
   "outputs": [
    {
     "name": "stdout",
     "output_type": "stream",
     "text": [
      "3.24198550824\n",
      "9.00658\n"
     ]
    },
    {
     "data": {
      "image/png": "[encoded data removed]",
      "text/plain": [
       "<matplotlib.figure.Figure at 0x115e240d0>"
      ]
     },
     "metadata": {},
     "output_type": "display_data"
    }
   ],
   "source": [
    "fi = plt.figure(figsize=(3,20))\n",
    "ax = plt.subplot(1,2,1)\n",
    "ax.axis('off')\n",
    "ax.imshow(np.sort(W_1), interpolation='nearest', cmap=plt.cm.copper)\n",
    "ax = plt.subplot(1,2,2)\n",
    "ax.axis('off')\n",
    "ax.imshow(np.sort(W_1_), interpolation='nearest', cmap=plt.cm.copper)\n",
    "print np.max(W_1)\n",
    "print np.max(W_1_)"
   ]
  },
  {
   "cell_type": "code",
   "execution_count": 230,
   "metadata": {
    "collapsed": false
   },
   "outputs": [
    {
     "name": "stdout",
     "output_type": "stream",
     "text": [
      "1.74464921993\n",
      "10.5909\n"
     ]
    },
    {
     "data": {
      "image/png": "[encoded data removed]",
      "text/plain": [
       "<matplotlib.figure.Figure at 0x115134450>"
      ]
     },
     "metadata": {},
     "output_type": "display_data"
    }
   ],
   "source": [
    "fi = plt.figure(figsize=(3,20))\n",
    "ax = plt.subplot(1,2,1)\n",
    "ax.axis('off')\n",
    "ax.imshow((W_0), interpolation='nearest', cmap=plt.cm.copper)\n",
    "ax = plt.subplot(1,2,2)\n",
    "ax.axis('off')\n",
    "ax.imshow((W_0_), interpolation='nearest', cmap=plt.cm.copper)\n",
    "print np.max(W_0)\n",
    "print np.max(W_0_)"
   ]
  },
  {
   "cell_type": "code",
   "execution_count": 231,
   "metadata": {
    "collapsed": false
   },
   "outputs": [
    {
     "name": "stdout",
     "output_type": "stream",
     "text": [
      "5.06263897963\n",
      "3.94272\n"
     ]
    },
    {
     "data": {
      "image/png": "[encoded data removed]",
      "text/plain": [
       "<matplotlib.figure.Figure at 0x115e94f10>"
      ]
     },
     "metadata": {},
     "output_type": "display_data"
    }
   ],
   "source": [
    "fi = plt.figure(figsize=(3,20))\n",
    "ax = plt.subplot(1,2,1)\n",
    "ax.axis('off')\n",
    "ax.imshow((z_2), interpolation='nearest', cmap=plt.cm.copper)\n",
    "ax = plt.subplot(1,2,2)\n",
    "ax.axis('off')\n",
    "ax.imshow((z_2_), interpolation='nearest', cmap=plt.cm.copper)\n",
    "print np.max(z_2)\n",
    "print np.max(z_2_)"
   ]
  },
  {
   "cell_type": "code",
   "execution_count": 232,
   "metadata": {
    "collapsed": false
   },
   "outputs": [
    {
     "name": "stdout",
     "output_type": "stream",
     "text": [
      "20.8093553036\n",
      "80.0775\n"
     ]
    },
    {
     "data": {
      "image/png": "[encoded data removed]",
      "text/plain": [
       "<matplotlib.figure.Figure at 0x115385910>"
      ]
     },
     "metadata": {},
     "output_type": "display_data"
    }
   ],
   "source": [
    "fi = plt.figure(figsize=(3,20))\n",
    "ax = plt.subplot(1,2,1)\n",
    "ax.axis('off')\n",
    "ax.imshow((z_1), interpolation='nearest', cmap=plt.cm.copper)\n",
    "ax = plt.subplot(1,2,2)\n",
    "ax.axis('off')\n",
    "ax.imshow((z_1_), interpolation='nearest', cmap=plt.cm.copper)\n",
    "print np.max(z_1)\n",
    "print np.max(z_1_)"
   ]
  },
  {
   "cell_type": "code",
   "execution_count": 163,
   "metadata": {
    "collapsed": true
   },
   "outputs": [],
   "source": [
    "datadict = pystan.misc.read_rdump('sparse_gamma_def.data.R')\n",
    "\n",
    "datadict['x_heldout'] = datadict['x']\n",
    "\n",
    "S = 25\n",
    "datadict['S'] = S\n"
   ]
  },
  {
   "cell_type": "code",
   "execution_count": 169,
   "metadata": {
    "collapsed": false
   },
   "outputs": [
    {
     "name": "stdout",
     "output_type": "stream",
     "text": [
      "(25, 308)\n"
     ]
    }
   ],
   "source": [
    "intermediate_samples = np.genfromtxt('intermediate_variational_samples_10000.csv', delimiter=',')[:,1:]\n",
    "print intermediate_samples.shape\n",
    "\n",
    "z_1_ = np.ones((S,N,K_1))\n",
    "W_0_ = np.ones((S,K_1,I))\n",
    "\n",
    "# for s in range(S):\n",
    "#     z_1_[s,:,:] = gamma(shape=alpha_z1, scale=1/(alpha_z1/np.dot(z_2, W_1)), size=(N,K_1))\n",
    "#     W_0_[s,:,:] = gamma(shape=alpha_w0, scale=1/beta_w0, size=(K_1, I))\n",
    "\n",
    "for s in range(S):\n",
    "    z_1_[s,:,:] = np.reshape(intermediate_samples[s, N*K_2 : N*K_2+N*K_1], (N,K_1), order='F')\n",
    "    W_0_[s,:,:] = np.reshape(intermediate_samples[s, N*K_2+N*K_1+K_2*K_1 : N*K_2+N*K_1+K_2*K_1+K_1*I], (K_1,I), order='F')\n",
    "\n",
    "datadict['z_1'] = z_1_\n",
    "datadict['W_0'] = W_0_\n",
    "\n",
    "pystan.misc.stan_rdump(datadict, 'logpred.data.R')\n",
    "\n",
    "# z_1_ = np.reshape(results[N*K_2 : N*K_2+N*K_1], (N,K_1), order='F')\n",
    "# W_0_ = np.reshape(results[N*K_2+N*K_1+K_2*K_1 : N*K_2+N*K_1+K_2*K_1+K_1*I], (K_1,I), order='F')"
   ]
  },
  {
   "cell_type": "code",
   "execution_count": null,
   "metadata": {
    "collapsed": true
   },
   "outputs": [],
   "source": []
  }
 ],
 "metadata": {
  "kernelspec": {
   "display_name": "Python 2",
   "language": "python",
   "name": "python2"
  },
  "language_info": {
   "codemirror_mode": {
    "name": "ipython",
    "version": 2
   },
   "file_extension": ".py",
   "mimetype": "text/x-python",
   "name": "python",
   "nbconvert_exporter": "python",
   "pygments_lexer": "ipython2",
   "version": "2.7.10"
  }
 },
 "nbformat": 4,
 "nbformat_minor": 0
}
