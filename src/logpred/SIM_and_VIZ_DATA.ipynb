{
 "cells": [
  {
   "cell_type": "code",
   "execution_count": null,
   "metadata": {
    "collapsed": true
   },
   "outputs": [],
   "source": [
    "import numpy as np\n",
    "import matplotlib.pyplot as plt\n",
    "%matplotlib inline\n",
    "from matplotlib import style\n",
    "style.use('ggplot')\n",
    "import matplotlib.gridspec as gridspec\n",
    "from matplotlib.patches import Ellipse\n",
    "import itertools\n",
    "import pystan"
   ]
  },
  {
   "cell_type": "code",
   "execution_count": null,
   "metadata": {
    "collapsed": true
   },
   "outputs": [],
   "source": [
    "N = 2000\n",
    "D = 2\n",
    "K = 3\n",
    "alpha0 = 10000\n",
    "\n",
    "vizD = 2"
   ]
  },
  {
   "cell_type": "code",
   "execution_count": null,
   "metadata": {
    "collapsed": true
   },
   "outputs": [],
   "source": [
    "def wishart(sigma, dof):\n",
    "  '''\n",
    "  Returns a sample from the Wishart distn, conjugate prior for precision matrices.\n",
    "\n",
    "  (http://www.mit.edu/~mattjj/released-code/hsmm/stats_util.py)\n",
    "\n",
    "  '''\n",
    "  n    = sigma.shape[0]\n",
    "  chol = np.linalg.cholesky(sigma)\n",
    "\n",
    "  # Use matlab's heuristic for choosing between the two different sampling schemes\n",
    "  if (dof <= 81+n) and (dof == round(dof)):\n",
    "      # direct\n",
    "      X = np.dot(chol,np.random.normal(size=(n,dof)))\n",
    "  else:\n",
    "      A = np.diag(np.sqrt(np.random.chisquare(dof - np.arange(0,n),size=n)))\n",
    "      A[np.tri(n,k=-1,dtype=bool)] = np.random.normal(size=(n*(n-1)/2.))\n",
    "      X = np.dot(chol,A)\n",
    "\n",
    "  return np.dot(X,X.T)\n",
    "\n",
    "def create_cov_ellipse(cov, pos, nstd=2, **kwargs):\n",
    "  \"\"\"\n",
    "  Plots an `nstd` sigma error ellipse based on the specified covariance\n",
    "  matrix (`cov`). Additional keyword arguments are passed on to the\n",
    "  ellipse patch artist.\n",
    "\n",
    "  Parameters\n",
    "  ----------\n",
    "    cov : The 2x2 covariance matrix to base the ellipse on\n",
    "    pos : The location of the center of the ellipse. Expects a 2-element\n",
    "        sequence of [x0, y0].\n",
    "    nstd : The radius of the ellipse in numbers of standard deviations.\n",
    "        Defaults to 2 standard deviations.\n",
    "    ax : The axis that the ellipse will be plotted on. Defaults to the\n",
    "        current axis.\n",
    "    Additional keyword arguments are pass on to the ellipse patch.\n",
    "\n",
    "  \"\"\"\n",
    "  def eigsorted(cov):\n",
    "    vals, vecs = np.linalg.eigh(cov)\n",
    "    order = vals.argsort()[::-1]\n",
    "    return vals[order], vecs[:,order]\n",
    "\n",
    "  vals, vecs = eigsorted(cov)\n",
    "  theta = np.degrees(np.arctan2(*vecs[:,0][::-1]))\n",
    "\n",
    "  # Width and height are \"full\" widths, not radius\n",
    "  width, height = 2 * nstd * np.sqrt(vals)\n",
    "  ellip = Ellipse(xy=pos, width=width, height=height, angle=theta, **kwargs)\n",
    "\n",
    "  return ellip"
   ]
  },
  {
   "cell_type": "code",
   "execution_count": null,
   "metadata": {
    "collapsed": true
   },
   "outputs": [],
   "source": [
    "# Draw precision matrices from Wishart prior\n",
    "Lambda = np.zeros((K,D,D))\n",
    "LambdaInv = np.zeros((K,D,D))\n",
    "for k in range(K):\n",
    "    Lambda[k,:,:] = wishart(np.eye(D), 2*D)\n",
    "    LambdaInv[k,:,:] = np.linalg.inv(Lambda[k,:,:])\n",
    "# print LambdaInv"
   ]
  },
  {
   "cell_type": "code",
   "execution_count": null,
   "metadata": {
    "collapsed": true
   },
   "outputs": [],
   "source": [
    "# Draw means of Gaussians mixtures [NOT FROM PRIOR!]\n",
    "mu = np.round(5.5 * np.random.random_sample((K, D)), 2)\n",
    "\n",
    "# Draw mixing coffecients from Dirichlet prior\n",
    "pi = np.random.dirichlet(alpha0*np.ones(K))"
   ]
  },
  {
   "cell_type": "code",
   "execution_count": null,
   "metadata": {
    "collapsed": false
   },
   "outputs": [],
   "source": [
    "# Draw data points (training)\n",
    "y          = np.zeros((N, D))       # observations\n",
    "Ztrain     = np.zeros((N, K))       # latent variables\n",
    "labeltrain = np.zeros(N, dtype=int) # label\n",
    "for n in range(N):\n",
    "    Ztrain[n,:]    = np.random.multinomial(1, pi)\n",
    "    labeltrain[n]  = np.argmax(Ztrain[n,:])\n",
    "    y[n,:]    = np.random.multivariate_normal(\n",
    "                np.squeeze(mu[labeltrain[n],:]), \n",
    "                np.squeeze(LambdaInv[labeltrain[n],:,:]))\n",
    "\n",
    "y = y - np.mean(y, axis=0)\n",
    "y = y / 0.5*np.max(np.linalg.norm(y, axis=1))"
   ]
  },
  {
   "cell_type": "code",
   "execution_count": null,
   "metadata": {
    "collapsed": false
   },
   "outputs": [],
   "source": [
    "hop = plt.figure(figsize=(20,20))\n",
    "gs = gridspec.GridSpec(vizD, vizD)\n",
    "\n",
    "for d1 in range(vizD):\n",
    "    for d2 in range(vizD):\n",
    "        if d1 < d2:\n",
    "            ax = plt.subplot(gs[d1, d2])\n",
    "            ax.scatter(0,0,s=512,color='k',marker='1',lw=3)\n",
    "            colors = itertools.cycle(plt.rcParams['axes.color_cycle'])\n",
    "            for i in range(K):\n",
    "                this_color = next(colors)\n",
    "                y_i = y[labeltrain==(i)]\n",
    "                ax.scatter(y_i[:,d1],y_i[:,d2],s=64,c=this_color,alpha=0.7)"
   ]
  },
  {
   "cell_type": "code",
   "execution_count": null,
   "metadata": {
    "collapsed": true
   },
   "outputs": [],
   "source": [
    "datadict = {}\n",
    "datadict['N']      = N\n",
    "datadict['D']      = D\n",
    "datadict['K']      = K\n",
    "datadict['alpha0'] = alpha0\n",
    "datadict['y']      = y\n",
    "pystan.misc.stan_rdump(datadict, 'training.data.R')"
   ]
  },
  {
   "cell_type": "code",
   "execution_count": null,
   "metadata": {
    "collapsed": true
   },
   "outputs": [],
   "source": []
  },
  {
   "cell_type": "code",
   "execution_count": null,
   "metadata": {
    "collapsed": true
   },
   "outputs": [],
   "source": []
  },
  {
   "cell_type": "code",
   "execution_count": null,
   "metadata": {
    "collapsed": true
   },
   "outputs": [],
   "source": []
  },
  {
   "cell_type": "code",
   "execution_count": null,
   "metadata": {
    "collapsed": true
   },
   "outputs": [],
   "source": []
  },
  {
   "cell_type": "code",
   "execution_count": null,
   "metadata": {
    "collapsed": false
   },
   "outputs": [],
   "source": [
    "# INSPECT ADVI\n",
    "results_mf = np.genfromtxt('output_mf.csv', delimiter=',')[1,1:]\n",
    "# results_mf = np.genfromtxt('intermediate_variational_samples_500.csv', delimiter=',')[1,1:]\n",
    "pi_mf      = results_mf[0:K]\n",
    "mu_mf      = np.reshape(results_mf[K:K+K*D], (K,D), order='F')\n",
    "sigma_mf   = np.reshape(results_mf[K+K*D:], (K,D), order='F')\n",
    "\n",
    "# results_mf = np.genfromtxt('elbo_mf.csv', delimiter=',', comments='#', skip_header=26)[-1:,3:]\n",
    "# print results_mf.shape\n",
    "\n",
    "hop = plt.figure(figsize=(20,20))\n",
    "gs  = gridspec.GridSpec(vizD, vizD)\n",
    "for d1 in range(vizD):\n",
    "    for d2 in range(vizD):\n",
    "        if d1 < d2:\n",
    "            ax = plt.subplot(gs[d1, d2])\n",
    "            colors = itertools.cycle(plt.rcParams['axes.color_cycle'])\n",
    "            for i in range(K):\n",
    "                this_color = next(colors)\n",
    "                y_i = y[labeltrain==(i)]\n",
    "                ax.scatter(y_i[:,d1],y_i[:,d2],s=64,c=this_color,alpha=0.3)\n",
    "            for i in range(K):\n",
    "                ax.scatter(mu_mf[i][d1], mu_mf[i][d2], marker='x', s=256, lw=3, c='k')\n",
    "                e = create_cov_ellipse(np.diag(np.square(sigma_mf[i][[d1,d2]])), mu_mf[i][[d1,d2]])\n",
    "                ax.add_artist(e)\n",
    "                e.set_alpha(1.5*pi_mf[i])\n",
    "                e.set_facecolor('k')\n",
    "                \n",
    "plt.savefig('gmm_advi.pdf',format='pdf')"
   ]
  },
  {
   "cell_type": "code",
   "execution_count": null,
   "metadata": {
    "collapsed": false
   },
   "outputs": [],
   "source": [
    "# INSPECT NUTS\n",
    "results_nuts = np.mean(np.genfromtxt('output_nuts.csv', delimiter=',')[1:,6:],axis=0)\n",
    "pi_nuts      = results_nuts[0:K]\n",
    "mu_nuts      = np.reshape(results_nuts[K:K+K*D], (K,D), order='F')\n",
    "sigma_nuts   = np.reshape(results_nuts[K+K*D:], (K,D), order='F')\n",
    "\n",
    "hop = plt.figure(figsize=(20,20))\n",
    "gs  = gridspec.GridSpec(vizD, vizD)\n",
    "for d1 in range(vizD):\n",
    "    for d2 in range(vizD):\n",
    "        if d1 < d2:\n",
    "            ax = plt.subplot(gs[d1, d2])\n",
    "            colors = itertools.cycle(plt.rcParams['axes.color_cycle'])\n",
    "            for i in range(K):\n",
    "                this_color = next(colors)\n",
    "                y_i = y[labeltrain==(i)]\n",
    "                ax.scatter(y_i[:,d1],y_i[:,d2],s=64,c=this_color,alpha=0.3)\n",
    "                ax.scatter(mu_nuts[i][d1], mu_nuts[i][d2], marker='x', s=256, lw=3, c='k')\n",
    "                e = create_cov_ellipse(np.diag(np.square(sigma_nuts[i][[d1,d2]])), mu_nuts[i][[d1,d2]])\n",
    "                ax.add_artist(e)\n",
    "                e.set_alpha(1.5*pi_nuts[i])\n",
    "                e.set_facecolor('k')\n",
    "                \n",
    "plt.savefig('gmm_nuts.pdf',format='pdf')"
   ]
  },
  {
   "cell_type": "code",
   "execution_count": null,
   "metadata": {
    "collapsed": true
   },
   "outputs": [],
   "source": []
  }
 ],
 "metadata": {
  "kernelspec": {
   "display_name": "Python 2",
   "language": "python",
   "name": "python2"
  },
  "language_info": {
   "codemirror_mode": {
    "name": "ipython",
    "version": 2
   },
   "file_extension": ".py",
   "mimetype": "text/x-python",
   "name": "python",
   "nbconvert_exporter": "python",
   "pygments_lexer": "ipython2",
   "version": "2.7.10"
  }
 },
 "nbformat": 4,
 "nbformat_minor": 0
}
